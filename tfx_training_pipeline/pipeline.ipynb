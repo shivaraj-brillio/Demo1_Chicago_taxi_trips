{
 "cells": [
  {
   "cell_type": "code",
   "execution_count": 337,
   "id": "118de500-e847-4adb-8ce0-d255e6dafb0d",
   "metadata": {
    "tags": []
   },
   "outputs": [],
   "source": [
    "!pip install tfx"
   ]
  },
  {
   "cell_type": "code",
   "execution_count": 338,
   "id": "b112ccfa-8632-4889-abbf-ce04bbdcfb40",
   "metadata": {
    "tags": []
   },
   "outputs": [],
   "source": [
    "import os\n",
    "import pprint\n",
    "import tempfile\n",
    "import urllib\n",
    "import polars as pl\n",
    "import absl\n",
    "import tensorflow as tf\n",
    "import tensorflow_model_analysis as tfma\n",
    "tf.get_logger().propagate = False\n",
    "pp = pprint.PrettyPrinter()\n",
    "\n",
    "from tfx import v1 as tfx\n",
    "from tfx.orchestration.experimental.interactive.interactive_context import InteractiveContext\n",
    "\n",
    "%reload_ext tfx.orchestration.experimental.interactive.notebook_extensions.skip"
   ]
  },
  {
   "cell_type": "code",
   "execution_count": 339,
   "id": "62ecc699-c466-4ad8-8dc3-7f12d95e92d1",
   "metadata": {
    "tags": []
   },
   "outputs": [
    {
     "name": "stdout",
     "output_type": "stream",
     "text": [
      "TensorFlow version: 2.15.1\n",
      "TFX version: 1.15.0\n"
     ]
    }
   ],
   "source": [
    "print('TensorFlow version: {}'.format(tf.__version__))\n",
    "print('TFX version: {}'.format(tfx.__version__))"
   ]
  },
  {
   "cell_type": "code",
   "execution_count": 340,
   "id": "196ca6b5-461e-4f0e-822e-5fee94cef4cd",
   "metadata": {
    "tags": []
   },
   "outputs": [],
   "source": [
    "from datetime import datetime\n",
    "\n",
    "GOOGLE_CLOUD_REGION = 'us-central1'\n",
    "GOOGLE_CLOUD_PROJECT  = 'brldi-ds-capabilities-ccai'\n",
    "GCS_BUCKET_NAME = 'chicago_taxi_mlops_pipeline'\n",
    "\n",
    "PIPELINE_NAME = 'tensorflow-pipeline'\n",
    "\n",
    "TIMESTAMP = datetime.now().strftime(\"%Y%m%d%H%M%S\")\n",
    "# Path to various pipeline artifact.\n",
    "PIPELINE_ROOT = f'gs://{GCS_BUCKET_NAME}/pipeline_root/{PIPELINE_NAME}'\n",
    "\n",
    "# Paths for users' Python module.\n",
    "MODULE_ROOT = f'gs://{GCS_BUCKET_NAME}/pipeline_module/{PIPELINE_NAME}'\n",
    "\n",
    "# Paths for users' data.\n",
    "DATA_ROOT = f'gs://{GCS_BUCKET_NAME}/data/{PIPELINE_NAME}'\n",
    "\n",
    "# Name of Vertex AI Endpoint.\n",
    "ENDPOINT_NAME = PIPELINE_NAME +'-'+ TIMESTAMP"
   ]
  },
  {
   "cell_type": "code",
   "execution_count": 341,
   "id": "8e65239f-831e-40c6-91d6-3fd578f98f94",
   "metadata": {
    "tags": []
   },
   "outputs": [],
   "source": [
    "from google.cloud import bigquery\n",
    "query = \"\"\"SELECT * FROM `bigquery-public-data.chicago_taxi_trips.taxi_trips`\n",
    "WHERE EXTRACT(year FROM trip_start_timestamp)>2019\n",
    "\"\"\""
   ]
  },
  {
   "cell_type": "code",
   "execution_count": 342,
   "id": "08b98186-f2a6-40f1-8ca9-2d572689d3aa",
   "metadata": {
    "tags": []
   },
   "outputs": [
    {
     "name": "stdout",
     "output_type": "stream",
     "text": [
      "(48191, 23)\n"
     ]
    }
   ],
   "source": [
    "client = bigquery.Client()\n",
    "data = client.query(query)\n",
    "data = data.to_dataframe()\n",
    "print(data.shape)"
   ]
  },
  {
   "cell_type": "code",
   "execution_count": 343,
   "id": "326207f0-6602-4c35-903a-ffa66156f98c",
   "metadata": {
    "tags": []
   },
   "outputs": [],
   "source": [
    "data[\"trip_start_day\"] = data.trip_start_timestamp.apply(lambda x: x.day)"
   ]
  },
  {
   "cell_type": "code",
   "execution_count": 344,
   "id": "1e39389c-e922-40d9-bbfb-a71d68e5ae4c",
   "metadata": {},
   "outputs": [],
   "source": [
    "data[\"trip_start_month\"] = data.trip_start_timestamp.apply(lambda x: x.month)"
   ]
  },
  {
   "cell_type": "code",
   "execution_count": 345,
   "id": "323d30cd-f607-4f9a-8277-1231b26e54c7",
   "metadata": {
    "tags": []
   },
   "outputs": [],
   "source": [
    "data[\"trip_start_hour\"] = data.trip_start_timestamp.apply(lambda x: x.hour)"
   ]
  },
  {
   "cell_type": "code",
   "execution_count": 346,
   "id": "d496510e-4b09-46c4-bc32-5db9d80045a7",
   "metadata": {
    "tags": []
   },
   "outputs": [],
   "source": [
    "data.to_csv(\"Chicago_Taxi_From_2020.csv\")"
   ]
  },
  {
   "cell_type": "code",
   "execution_count": 347,
   "id": "1c72dadc-dfed-4c64-951d-8a3a1b3a248f",
   "metadata": {
    "tags": []
   },
   "outputs": [
    {
     "name": "stdout",
     "output_type": "stream",
     "text": [
      "Creating gs://chicago_taxi_mlops_pipeline/...\n",
      "ServiceException: 409 A Cloud Storage bucket named 'chicago_taxi_mlops_pipeline' already exists. Try another name. Bucket names must be globally unique across all Google Cloud projects, including those outside of your organization.\n",
      "Copying file://Chicago_Taxi_From_2020.csv [Content-Type=text/csv]...\n",
      "/ [1 files][ 19.2 MiB/ 19.2 MiB]                                                \n",
      "Operation completed over 1 objects/19.2 MiB.                                     \n"
     ]
    }
   ],
   "source": [
    "!gsutil mb -l {GOOGLE_CLOUD_REGION} gs://{GCS_BUCKET_NAME}\n",
    "!gsutil cp Chicago_Taxi_From_2020.csv {DATA_ROOT}/"
   ]
  },
  {
   "cell_type": "code",
   "execution_count": 348,
   "id": "49cf5a5b-6b23-431f-a4c3-c018796cc1f0",
   "metadata": {
    "tags": []
   },
   "outputs": [
    {
     "name": "stderr",
     "output_type": "stream",
     "text": [
      "WARNING:absl:InteractiveContext pipeline_root argument not provided: using temporary directory /var/tmp/tfx-interactive-2024-05-14T06_26_50.949907-a48bz85w as root for pipeline outputs.\n",
      "WARNING:absl:InteractiveContext metadata_connection_config not provided: using SQLite ML Metadata database at /var/tmp/tfx-interactive-2024-05-14T06_26_50.949907-a48bz85w/metadata.sqlite.\n"
     ]
    }
   ],
   "source": [
    "import importlib\n",
    "import exampleGen\n",
    "\n",
    "# Reload the module\n",
    "importlib.reload(exampleGen)\n",
    "\n",
    "example_gen = exampleGen.exampleGen(DATA_ROOT)"
   ]
  },
  {
   "cell_type": "code",
   "execution_count": 349,
   "id": "85792623-7c42-4f2b-97cb-fe53f95f13ea",
   "metadata": {
    "tags": []
   },
   "outputs": [],
   "source": [
    "# artifact = example_gen.outputs['examples'].get()[0]\n",
    "# print(artifact.split_names, artifact.uri)"
   ]
  },
  {
   "cell_type": "code",
   "execution_count": 350,
   "id": "a46193e9-bbeb-4b54-ad92-342d55d5c52a",
   "metadata": {
    "tags": []
   },
   "outputs": [],
   "source": [
    "# # Get the URI of the output artifact representing the training examples, which is a directory\n",
    "# train_uri = os.path.join(example_gen.outputs['examples'].get()[0].uri, 'Split-train')\n",
    "\n",
    "# # Get the list of files in this directory (all compressed TFRecord files)\n",
    "# tfrecord_filenames = [os.path.join(train_uri, name)\n",
    "#                       for name in os.listdir(train_uri)]\n",
    "\n",
    "# # Create a `TFRecordDataset` to read these files\n",
    "# dataset = tf.data.TFRecordDataset(tfrecord_filenames, compression_type=\"GZIP\")\n",
    "\n",
    "# # Iterate over the first 3 records and decode them.\n",
    "# for tfrecord in dataset.take(3):\n",
    "#   serialized_example = tfrecord.numpy()\n",
    "#   example = tf.train.Example()\n",
    "#   example.ParseFromString(serialized_example)\n",
    "#   pp.pprint(example)"
   ]
  },
  {
   "cell_type": "code",
   "execution_count": 351,
   "id": "66df892e-12c0-4819-ae17-5567f3d96439",
   "metadata": {
    "tags": []
   },
   "outputs": [],
   "source": [
    "import importlib\n",
    "import statisticsGen\n",
    "\n",
    "# Reload the module\n",
    "importlib.reload(statisticsGen)\n",
    "\n",
    "statistics_gen = statisticsGen.statisticsGen(example_gen)\n",
    "# context.run(statistics_gen, enable_cache=True)"
   ]
  },
  {
   "cell_type": "code",
   "execution_count": 352,
   "id": "3cef679c-b4c3-4d80-8921-3e7ef0462d45",
   "metadata": {
    "tags": []
   },
   "outputs": [],
   "source": [
    "# context.show(statistics_gen.outputs['statistics'])"
   ]
  },
  {
   "cell_type": "code",
   "execution_count": 353,
   "id": "e3e15955-576c-490f-8595-b0533f7bb8bd",
   "metadata": {
    "tags": []
   },
   "outputs": [],
   "source": [
    "import importlib\n",
    "import schemaGen\n",
    "\n",
    "# Reload the module\n",
    "importlib.reload(schemaGen)\n",
    "\n",
    "schema_gen = schemaGen.schemaGen(statistics_gen)\n",
    "# context.run(schema_gen, enable_cache=True)"
   ]
  },
  {
   "cell_type": "code",
   "execution_count": 354,
   "id": "7b404ab0-2ffc-41bb-9b45-8907556c8d72",
   "metadata": {
    "tags": []
   },
   "outputs": [],
   "source": [
    "# context.show(schema_gen.outputs[\"schema\"])"
   ]
  },
  {
   "cell_type": "code",
   "execution_count": 355,
   "id": "133afd53-6f1e-46d9-9304-58446034fd02",
   "metadata": {
    "tags": []
   },
   "outputs": [],
   "source": [
    "import importlib\n",
    "import exampleValidator\n",
    "\n",
    "# Reload the module\n",
    "importlib.reload(exampleValidator)\n",
    "\n",
    "example_validator = exampleValidator.exampleValidator(statistics_gen, schema_gen)\n",
    "# context.run(example_validator, enable_cache=True)"
   ]
  },
  {
   "cell_type": "code",
   "execution_count": 356,
   "id": "def2e8a2-a9c9-4f15-99b4-89baa403e0b8",
   "metadata": {
    "tags": []
   },
   "outputs": [],
   "source": [
    "# context.show(example_validator.outputs['anomalies'])"
   ]
  },
  {
   "cell_type": "code",
   "execution_count": 357,
   "id": "a0722ac9-72e7-4534-8f45-6f232853d66f",
   "metadata": {
    "tags": []
   },
   "outputs": [],
   "source": [
    "transform = tfx.components.Transform(\n",
    "    examples=example_gen.outputs['examples'],\n",
    "    schema=schema_gen.outputs['schema'],\n",
    "    module_file=f\"gs://{GCS_BUCKET_NAME}/models/taxi_transform.py\")\n",
    "# context.run(transform, enable_cache=True)"
   ]
  },
  {
   "cell_type": "code",
   "execution_count": 358,
   "id": "38ce7dda-a627-49c8-b038-89bf632e0794",
   "metadata": {
    "tags": []
   },
   "outputs": [],
   "source": [
    "# context.show(transform.outputs[\"transform_graph\"])"
   ]
  },
  {
   "cell_type": "code",
   "execution_count": 359,
   "id": "256106d9-9c36-40f3-a795-eecc8968a8fe",
   "metadata": {
    "tags": []
   },
   "outputs": [],
   "source": [
    "# train_uri = transform.outputs['transform_graph'].get()[0].uri\n",
    "# os.listdir(train_uri)"
   ]
  },
  {
   "cell_type": "code",
   "execution_count": 360,
   "id": "4636909f-d63f-4d72-9e13-cdd986b36ddb",
   "metadata": {
    "tags": []
   },
   "outputs": [],
   "source": [
    "# # Get the URI of the output artifact representing the transformed examples, which is a directory\n",
    "# train_uri = os.path.join(transform.outputs['transformed_examples'].get()[0].uri, 'Split-train')\n",
    "\n",
    "# # Get the list of files in this directory (all compressed TFRecord files)\n",
    "# tfrecord_filenames = [os.path.join(train_uri, name)\n",
    "#                       for name in os.listdir(train_uri)]\n",
    "\n",
    "# # Create a `TFRecordDataset` to read these files\n",
    "# dataset = tf.data.TFRecordDataset(tfrecord_filenames, compression_type=\"GZIP\")\n",
    "\n",
    "# # Iterate over the first 3 records and decode them.\n",
    "# for tfrecord in dataset.take(3):\n",
    "#   serialized_example = tfrecord.numpy()\n",
    "#   example = tf.train.Example()\n",
    "#   example.ParseFromString(serialized_example)\n",
    "#   pp.pprint(example)"
   ]
  },
  {
   "cell_type": "code",
   "execution_count": 361,
   "id": "2663aa72-85b0-409f-90d7-3cd4be5d9933",
   "metadata": {
    "tags": []
   },
   "outputs": [],
   "source": [
    "trainer = tfx.components.Trainer(\n",
    "    module_file=f\"gs://{GCS_BUCKET_NAME}/models/taxi_trainer.py\",\n",
    "    examples=transform.outputs['transformed_examples'],\n",
    "    transform_graph=transform.outputs['transform_graph'],\n",
    "    schema=schema_gen.outputs['schema'],\n",
    "    train_args=tfx.proto.TrainArgs(num_steps=10000),\n",
    "    eval_args=tfx.proto.EvalArgs(num_steps=5000))\n",
    "# context.run(trainer, enable_cache=True)"
   ]
  },
  {
   "cell_type": "code",
   "execution_count": 362,
   "id": "7992ad6c-b80d-4bcf-a28f-77f2c6022053",
   "metadata": {
    "tags": []
   },
   "outputs": [],
   "source": [
    "# model_artifact_dir = trainer.outputs['model'].get()[0].uri\n",
    "# pp.pprint(os.listdir(model_artifact_dir))\n",
    "# model_dir = os.path.join(model_artifact_dir, 'Format-Serving')\n",
    "# pp.pprint(os.listdir(model_dir))"
   ]
  },
  {
   "cell_type": "code",
   "execution_count": 363,
   "id": "f074cd0b-8512-4618-a6c8-41af7d104073",
   "metadata": {
    "tags": []
   },
   "outputs": [],
   "source": [
    "# model_run_artifact_dir = trainer.outputs['model_run'].get()[0].uri\n",
    "\n",
    "# %load_ext tensorboard\n",
    "# %tensorboard --logdir {model_run_artifact_dir}"
   ]
  },
  {
   "cell_type": "code",
   "execution_count": 364,
   "id": "869a3e9b-10fc-485d-9f5d-c14c0bddebd6",
   "metadata": {
    "tags": []
   },
   "outputs": [],
   "source": [
    "# Imported files such as taxi_constants are normally cached, so changes are\n",
    "# not honored after the first import.  Normally this is good for efficiency, but\n",
    "# during development when we may be iterating code it can be a problem. To\n",
    "# avoid this problem during development, reload the file.\n",
    "\n",
    "import sys\n",
    "if 'google.colab' in sys.modules:  # Testing to see if we're doing development\n",
    "    import importlib\n",
    "import importlib.util\n",
    "from google.cloud import storage\n",
    "\n",
    "# Define the Cloud Storage path\n",
    "bucket_name = \"chicago_taxi_mlops_pipeline\"\n",
    "blob_name = \"models/taxi_constants.py\"\n",
    "local_file_path = \"/tmp/taxi_constants.py\"  # Local path to download the file\n",
    "\n",
    "# Download the file from Cloud Storage\n",
    "storage_client = storage.Client()\n",
    "bucket = storage_client.bucket(bucket_name)\n",
    "blob = bucket.blob(blob_name)\n",
    "blob.download_to_filename(local_file_path)\n",
    "\n",
    "# Load the module dynamically\n",
    "spec = importlib.util.spec_from_file_location(\"taxi_constants\", local_file_path)\n",
    "taxi_constants = importlib.util.module_from_spec(spec)\n",
    "spec.loader.exec_module(taxi_constants)\n",
    "\n",
    "# Now you can access the LABEL_KEY attribute\n",
    "label_key = taxi_constants.LABEL_KEY\n",
    "\n",
    "\n",
    "eval_config = tfma.EvalConfig(\n",
    "    model_specs=[\n",
    "        # This assumes a serving model with signature 'serving_default'. If\n",
    "        # using estimator based EvalSavedModel, add signature_name: 'eval' and\n",
    "        # remove the label_key.\n",
    "        tfma.ModelSpec(\n",
    "            signature_name='serving_default',\n",
    "            label_key=label_key,\n",
    "            preprocessing_function_names=['transform_features'],\n",
    "            )\n",
    "        ],\n",
    "    metrics_specs=[\n",
    "        tfma.MetricsSpec(\n",
    "            # The metrics added here are in addition to those saved with the\n",
    "            # model (assuming either a keras model or EvalSavedModel is used).\n",
    "            # Any metrics added into the saved model (for example using\n",
    "            # model.compile(..., metrics=[...]), etc) will be computed\n",
    "            # automatically.\n",
    "            # To add validation thresholds for metrics saved with the model,\n",
    "            # add them keyed by metric name to the thresholds map.\n",
    "            metrics=[\n",
    "                tfma.MetricConfig(class_name='ExampleCount'),\n",
    "                tfma.MetricConfig(class_name='BinaryAccuracy',\n",
    "                  threshold=tfma.MetricThreshold(\n",
    "                      value_threshold=tfma.GenericValueThreshold(\n",
    "                          lower_bound={'value': 0.5}),\n",
    "                      # Change threshold will be ignored if there is no\n",
    "                      # baseline model resolved from MLMD (first run).\n",
    "                      change_threshold=tfma.GenericChangeThreshold(\n",
    "                          direction=tfma.MetricDirection.HIGHER_IS_BETTER,\n",
    "                          absolute={'value': -1e-10})))\n",
    "            ]\n",
    "        )\n",
    "    ],\n",
    "    slicing_specs=[\n",
    "        # An empty slice spec means the overall slice, i.e. the whole dataset.\n",
    "        tfma.SlicingSpec(),\n",
    "        # Data can be sliced along a feature column. In this case, data is\n",
    "        # sliced along feature column trip_start_hour.\n",
    "        tfma.SlicingSpec(\n",
    "            feature_keys=['trip_start_hour'])\n",
    "    ])"
   ]
  },
  {
   "cell_type": "code",
   "execution_count": 365,
   "id": "17e21782-d7d9-47b6-88e9-f3a903ff2029",
   "metadata": {
    "tags": []
   },
   "outputs": [
    {
     "data": {
      "text/html": [
       "<style>\n",
       ".tfx-object.expanded {\n",
       "  padding: 4px 8px 4px 8px;\n",
       "  background: white;\n",
       "  border: 1px solid #bbbbbb;\n",
       "  box-shadow: 4px 4px 2px rgba(0,0,0,0.05);\n",
       "}\n",
       "html[theme=dark] .tfx-object.expanded {\n",
       "  background: black;\n",
       "}\n",
       ".tfx-object, .tfx-object * {\n",
       "  font-size: 11pt;\n",
       "}\n",
       ".tfx-object > .title {\n",
       "  cursor: pointer;\n",
       "}\n",
       ".tfx-object .expansion-marker {\n",
       "  color: #999999;\n",
       "}\n",
       ".tfx-object.expanded > .title > .expansion-marker:before {\n",
       "  content: '▼';\n",
       "}\n",
       ".tfx-object.collapsed > .title > .expansion-marker:before {\n",
       "  content: '▶';\n",
       "}\n",
       ".tfx-object .class-name {\n",
       "  font-weight: bold;\n",
       "}\n",
       ".tfx-object .deemphasize {\n",
       "  opacity: 0.5;\n",
       "}\n",
       ".tfx-object.collapsed > table.attr-table {\n",
       "  display: none;\n",
       "}\n",
       ".tfx-object.expanded > table.attr-table {\n",
       "  display: block;\n",
       "}\n",
       ".tfx-object table.attr-table {\n",
       "  border: 2px solid white;\n",
       "  margin-top: 5px;\n",
       "}\n",
       "html[theme=dark] .tfx-object table.attr-table {\n",
       "  border: 2px solid black;\n",
       "}\n",
       ".tfx-object table.attr-table td.attr-name {\n",
       "  vertical-align: top;\n",
       "  font-weight: bold;\n",
       "}\n",
       ".tfx-object table.attr-table td.attrvalue {\n",
       "  text-align: left;\n",
       "}\n",
       "</style>\n",
       "<script>\n",
       "function toggleTfxObject(element) {\n",
       "  var objElement = element.parentElement;\n",
       "  if (objElement.classList.contains('collapsed')) {\n",
       "    objElement.classList.remove('collapsed');\n",
       "    objElement.classList.add('expanded');\n",
       "  } else {\n",
       "    objElement.classList.add('collapsed');\n",
       "    objElement.classList.remove('expanded');\n",
       "  }\n",
       "}\n",
       "</script>\n",
       "<div class=\"tfx-object expanded\"><div class = \"title\" onclick=\"toggleTfxObject(this)\"><span class=\"expansion-marker\"></span><span class=\"class-name\">ExecutionResult</span><span class=\"deemphasize\"> at 0x7f5efe894a60</span></div><table class=\"attr-table\"><tr><td class=\"attr-name\">.execution_id</td><td class = \"attrvalue\">20</td></tr><tr><td class=\"attr-name\">.component</td><td class = \"attrvalue\">&lt;tfx.dsl.components.common.resolver.Resolver object at 0x7f5efe894f10&gt;</td></tr><tr><td class=\"attr-name\">.component.inputs</td><td class = \"attrvalue\"><table class=\"attr-table\"><tr><td class=\"attr-name\">['model']</td><td class = \"attrvalue\">ResolvedChannel(artifact_type=Model, LatestBlessedModelStrategy(Dict(model=Input(), model_blessing=Input()))[&quot;model&quot;])</td></tr><tr><td class=\"attr-name\">['model_blessing']</td><td class = \"attrvalue\">ResolvedChannel(artifact_type=ModelBlessing, LatestBlessedModelStrategy(Dict(model=Input(), model_blessing=Input()))[&quot;model_blessing&quot;])</td></tr></table></td></tr><tr><td class=\"attr-name\">.component.outputs</td><td class = \"attrvalue\"><table class=\"attr-table\"><tr><td class=\"attr-name\">['model']</td><td class = \"attrvalue\"><style>\n",
       ".tfx-object.expanded {\n",
       "  padding: 4px 8px 4px 8px;\n",
       "  background: white;\n",
       "  border: 1px solid #bbbbbb;\n",
       "  box-shadow: 4px 4px 2px rgba(0,0,0,0.05);\n",
       "}\n",
       "html[theme=dark] .tfx-object.expanded {\n",
       "  background: black;\n",
       "}\n",
       ".tfx-object, .tfx-object * {\n",
       "  font-size: 11pt;\n",
       "}\n",
       ".tfx-object > .title {\n",
       "  cursor: pointer;\n",
       "}\n",
       ".tfx-object .expansion-marker {\n",
       "  color: #999999;\n",
       "}\n",
       ".tfx-object.expanded > .title > .expansion-marker:before {\n",
       "  content: '▼';\n",
       "}\n",
       ".tfx-object.collapsed > .title > .expansion-marker:before {\n",
       "  content: '▶';\n",
       "}\n",
       ".tfx-object .class-name {\n",
       "  font-weight: bold;\n",
       "}\n",
       ".tfx-object .deemphasize {\n",
       "  opacity: 0.5;\n",
       "}\n",
       ".tfx-object.collapsed > table.attr-table {\n",
       "  display: none;\n",
       "}\n",
       ".tfx-object.expanded > table.attr-table {\n",
       "  display: block;\n",
       "}\n",
       ".tfx-object table.attr-table {\n",
       "  border: 2px solid white;\n",
       "  margin-top: 5px;\n",
       "}\n",
       "html[theme=dark] .tfx-object table.attr-table {\n",
       "  border: 2px solid black;\n",
       "}\n",
       ".tfx-object table.attr-table td.attr-name {\n",
       "  vertical-align: top;\n",
       "  font-weight: bold;\n",
       "}\n",
       ".tfx-object table.attr-table td.attrvalue {\n",
       "  text-align: left;\n",
       "}\n",
       "</style>\n",
       "<script>\n",
       "function toggleTfxObject(element) {\n",
       "  var objElement = element.parentElement;\n",
       "  if (objElement.classList.contains('collapsed')) {\n",
       "    objElement.classList.remove('collapsed');\n",
       "    objElement.classList.add('expanded');\n",
       "  } else {\n",
       "    objElement.classList.add('collapsed');\n",
       "    objElement.classList.remove('expanded');\n",
       "  }\n",
       "}\n",
       "</script>\n",
       "<div class=\"tfx-object collapsed\"><div class = \"title\" onclick=\"toggleTfxObject(this)\"><span class=\"expansion-marker\"></span><span class=\"class-name\">Channel</span> of type <span class=\"class-name\">'Model'</span> (1 artifact)<span class=\"deemphasize\"> at 0x7f5efe896f50</span></div><table class=\"attr-table\"><tr><td class=\"attr-name\">.type_name</td><td class = \"attrvalue\">Model</td></tr><tr><td class=\"attr-name\">._artifacts</td><td class = \"attrvalue\"><table class=\"attr-table\"><tr><td class=\"attr-name\">[0]</td><td class = \"attrvalue\"><style>\n",
       ".tfx-object.expanded {\n",
       "  padding: 4px 8px 4px 8px;\n",
       "  background: white;\n",
       "  border: 1px solid #bbbbbb;\n",
       "  box-shadow: 4px 4px 2px rgba(0,0,0,0.05);\n",
       "}\n",
       "html[theme=dark] .tfx-object.expanded {\n",
       "  background: black;\n",
       "}\n",
       ".tfx-object, .tfx-object * {\n",
       "  font-size: 11pt;\n",
       "}\n",
       ".tfx-object > .title {\n",
       "  cursor: pointer;\n",
       "}\n",
       ".tfx-object .expansion-marker {\n",
       "  color: #999999;\n",
       "}\n",
       ".tfx-object.expanded > .title > .expansion-marker:before {\n",
       "  content: '▼';\n",
       "}\n",
       ".tfx-object.collapsed > .title > .expansion-marker:before {\n",
       "  content: '▶';\n",
       "}\n",
       ".tfx-object .class-name {\n",
       "  font-weight: bold;\n",
       "}\n",
       ".tfx-object .deemphasize {\n",
       "  opacity: 0.5;\n",
       "}\n",
       ".tfx-object.collapsed > table.attr-table {\n",
       "  display: none;\n",
       "}\n",
       ".tfx-object.expanded > table.attr-table {\n",
       "  display: block;\n",
       "}\n",
       ".tfx-object table.attr-table {\n",
       "  border: 2px solid white;\n",
       "  margin-top: 5px;\n",
       "}\n",
       "html[theme=dark] .tfx-object table.attr-table {\n",
       "  border: 2px solid black;\n",
       "}\n",
       ".tfx-object table.attr-table td.attr-name {\n",
       "  vertical-align: top;\n",
       "  font-weight: bold;\n",
       "}\n",
       ".tfx-object table.attr-table td.attrvalue {\n",
       "  text-align: left;\n",
       "}\n",
       "</style>\n",
       "<script>\n",
       "function toggleTfxObject(element) {\n",
       "  var objElement = element.parentElement;\n",
       "  if (objElement.classList.contains('collapsed')) {\n",
       "    objElement.classList.remove('collapsed');\n",
       "    objElement.classList.add('expanded');\n",
       "  } else {\n",
       "    objElement.classList.add('collapsed');\n",
       "    objElement.classList.remove('expanded');\n",
       "  }\n",
       "}\n",
       "</script>\n",
       "<div class=\"tfx-object collapsed\"><div class = \"title\" onclick=\"toggleTfxObject(this)\"><span class=\"expansion-marker\"></span><span class=\"class-name\">Artifact</span> of type <span class=\"class-name\">'Model'</span> (uri: /var/tmp/tfx-interactive-2024-05-14T00_05_33.210611-l7_h3fve/Trainer/model/6)<span class=\"deemphasize\"> at 0x7f5efe894670</span></div><table class=\"attr-table\"><tr><td class=\"attr-name\">.type</td><td class = \"attrvalue\">&lt;class &#x27;tfx.types.standard_artifacts.Model&#x27;&gt;</td></tr><tr><td class=\"attr-name\">.uri</td><td class = \"attrvalue\">/var/tmp/tfx-interactive-2024-05-14T00_05_33.210611-l7_h3fve/Trainer/model/6</td></tr></table></div></td></tr></table></td></tr></table></div></td></tr><tr><td class=\"attr-name\">['model_blessing']</td><td class = \"attrvalue\"><style>\n",
       ".tfx-object.expanded {\n",
       "  padding: 4px 8px 4px 8px;\n",
       "  background: white;\n",
       "  border: 1px solid #bbbbbb;\n",
       "  box-shadow: 4px 4px 2px rgba(0,0,0,0.05);\n",
       "}\n",
       "html[theme=dark] .tfx-object.expanded {\n",
       "  background: black;\n",
       "}\n",
       ".tfx-object, .tfx-object * {\n",
       "  font-size: 11pt;\n",
       "}\n",
       ".tfx-object > .title {\n",
       "  cursor: pointer;\n",
       "}\n",
       ".tfx-object .expansion-marker {\n",
       "  color: #999999;\n",
       "}\n",
       ".tfx-object.expanded > .title > .expansion-marker:before {\n",
       "  content: '▼';\n",
       "}\n",
       ".tfx-object.collapsed > .title > .expansion-marker:before {\n",
       "  content: '▶';\n",
       "}\n",
       ".tfx-object .class-name {\n",
       "  font-weight: bold;\n",
       "}\n",
       ".tfx-object .deemphasize {\n",
       "  opacity: 0.5;\n",
       "}\n",
       ".tfx-object.collapsed > table.attr-table {\n",
       "  display: none;\n",
       "}\n",
       ".tfx-object.expanded > table.attr-table {\n",
       "  display: block;\n",
       "}\n",
       ".tfx-object table.attr-table {\n",
       "  border: 2px solid white;\n",
       "  margin-top: 5px;\n",
       "}\n",
       "html[theme=dark] .tfx-object table.attr-table {\n",
       "  border: 2px solid black;\n",
       "}\n",
       ".tfx-object table.attr-table td.attr-name {\n",
       "  vertical-align: top;\n",
       "  font-weight: bold;\n",
       "}\n",
       ".tfx-object table.attr-table td.attrvalue {\n",
       "  text-align: left;\n",
       "}\n",
       "</style>\n",
       "<script>\n",
       "function toggleTfxObject(element) {\n",
       "  var objElement = element.parentElement;\n",
       "  if (objElement.classList.contains('collapsed')) {\n",
       "    objElement.classList.remove('collapsed');\n",
       "    objElement.classList.add('expanded');\n",
       "  } else {\n",
       "    objElement.classList.add('collapsed');\n",
       "    objElement.classList.remove('expanded');\n",
       "  }\n",
       "}\n",
       "</script>\n",
       "<div class=\"tfx-object collapsed\"><div class = \"title\" onclick=\"toggleTfxObject(this)\"><span class=\"expansion-marker\"></span><span class=\"class-name\">Channel</span> of type <span class=\"class-name\">'ModelBlessing'</span> (1 artifact)<span class=\"deemphasize\"> at 0x7f5efe897850</span></div><table class=\"attr-table\"><tr><td class=\"attr-name\">.type_name</td><td class = \"attrvalue\">ModelBlessing</td></tr><tr><td class=\"attr-name\">._artifacts</td><td class = \"attrvalue\"><table class=\"attr-table\"><tr><td class=\"attr-name\">[0]</td><td class = \"attrvalue\"><style>\n",
       ".tfx-object.expanded {\n",
       "  padding: 4px 8px 4px 8px;\n",
       "  background: white;\n",
       "  border: 1px solid #bbbbbb;\n",
       "  box-shadow: 4px 4px 2px rgba(0,0,0,0.05);\n",
       "}\n",
       "html[theme=dark] .tfx-object.expanded {\n",
       "  background: black;\n",
       "}\n",
       ".tfx-object, .tfx-object * {\n",
       "  font-size: 11pt;\n",
       "}\n",
       ".tfx-object > .title {\n",
       "  cursor: pointer;\n",
       "}\n",
       ".tfx-object .expansion-marker {\n",
       "  color: #999999;\n",
       "}\n",
       ".tfx-object.expanded > .title > .expansion-marker:before {\n",
       "  content: '▼';\n",
       "}\n",
       ".tfx-object.collapsed > .title > .expansion-marker:before {\n",
       "  content: '▶';\n",
       "}\n",
       ".tfx-object .class-name {\n",
       "  font-weight: bold;\n",
       "}\n",
       ".tfx-object .deemphasize {\n",
       "  opacity: 0.5;\n",
       "}\n",
       ".tfx-object.collapsed > table.attr-table {\n",
       "  display: none;\n",
       "}\n",
       ".tfx-object.expanded > table.attr-table {\n",
       "  display: block;\n",
       "}\n",
       ".tfx-object table.attr-table {\n",
       "  border: 2px solid white;\n",
       "  margin-top: 5px;\n",
       "}\n",
       "html[theme=dark] .tfx-object table.attr-table {\n",
       "  border: 2px solid black;\n",
       "}\n",
       ".tfx-object table.attr-table td.attr-name {\n",
       "  vertical-align: top;\n",
       "  font-weight: bold;\n",
       "}\n",
       ".tfx-object table.attr-table td.attrvalue {\n",
       "  text-align: left;\n",
       "}\n",
       "</style>\n",
       "<script>\n",
       "function toggleTfxObject(element) {\n",
       "  var objElement = element.parentElement;\n",
       "  if (objElement.classList.contains('collapsed')) {\n",
       "    objElement.classList.remove('collapsed');\n",
       "    objElement.classList.add('expanded');\n",
       "  } else {\n",
       "    objElement.classList.add('collapsed');\n",
       "    objElement.classList.remove('expanded');\n",
       "  }\n",
       "}\n",
       "</script>\n",
       "<div class=\"tfx-object collapsed\"><div class = \"title\" onclick=\"toggleTfxObject(this)\"><span class=\"expansion-marker\"></span><span class=\"class-name\">Artifact</span> of type <span class=\"class-name\">'ModelBlessing'</span> (uri: /var/tmp/tfx-interactive-2024-05-14T00_05_33.210611-l7_h3fve/Evaluator/blessing/8)<span class=\"deemphasize\"> at 0x7f5efebfa1a0</span></div><table class=\"attr-table\"><tr><td class=\"attr-name\">.type</td><td class = \"attrvalue\">&lt;class &#x27;tfx.types.standard_artifacts.ModelBlessing&#x27;&gt;</td></tr><tr><td class=\"attr-name\">.uri</td><td class = \"attrvalue\">/var/tmp/tfx-interactive-2024-05-14T00_05_33.210611-l7_h3fve/Evaluator/blessing/8</td></tr></table></div></td></tr></table></td></tr></table></div></td></tr></table></td></tr></table></div>"
      ],
      "text/plain": [
       "ExecutionResult(\n",
       "    component_id: latest_blessed_model_resolver\n",
       "    execution_id: 20\n",
       "    outputs:\n",
       "        model: OutputChannel(artifact_type=Model, producer_component_id=latest_blessed_model_resolver, output_key=model, additional_properties={}, additional_custom_properties={}, _input_trigger=None, _is_async=False)\n",
       "        model_blessing: OutputChannel(artifact_type=ModelBlessing, producer_component_id=latest_blessed_model_resolver, output_key=model_blessing, additional_properties={}, additional_custom_properties={}, _input_trigger=None, _is_async=False))"
      ]
     },
     "execution_count": 365,
     "metadata": {},
     "output_type": "execute_result"
    }
   ],
   "source": [
    "# Use TFMA to compute a evaluation statistics over features of a model and\n",
    "# validate them against a baseline.\n",
    "\n",
    "# The model resolver is only required if performing model validation in addition\n",
    "# to evaluation. In this case we validate against the latest blessed model. If\n",
    "# no model has been blessed before (as in this case) the evaluator will make our\n",
    "# candidate the first blessed model.\n",
    "model_resolver = tfx.dsl.Resolver(\n",
    "      strategy_class=tfx.dsl.experimental.LatestBlessedModelStrategy,\n",
    "      model=tfx.dsl.Channel(type=tfx.types.standard_artifacts.Model),\n",
    "      model_blessing=tfx.dsl.Channel(\n",
    "          type=tfx.types.standard_artifacts.ModelBlessing)).with_id(\n",
    "              'latest_blessed_model_resolver')\n",
    "# context.run(model_resolver, enable_cache=True)\n"
   ]
  },
  {
   "cell_type": "code",
   "execution_count": 366,
   "id": "3c0acf10-d65f-45cf-9508-e71599c58124",
   "metadata": {
    "tags": []
   },
   "outputs": [],
   "source": [
    "evaluator = tfx.components.Evaluator(\n",
    "    examples=example_gen.outputs['examples'],\n",
    "    model=trainer.outputs['model'],\n",
    "    baseline_model=model_resolver.outputs['model'],\n",
    "    eval_config=eval_config)\n",
    "# context.run(evaluator, enable_cache=True)"
   ]
  },
  {
   "cell_type": "code",
   "execution_count": 367,
   "id": "a45693db-328d-4e35-a151-e92cb2397009",
   "metadata": {
    "tags": []
   },
   "outputs": [
    {
     "data": {
      "text/plain": [
       "{'evaluation': OutputChannel(artifact_type=ModelEvaluation, producer_component_id=Evaluator, output_key=evaluation, additional_properties={}, additional_custom_properties={}, _input_trigger=None, _is_async=False),\n",
       " 'blessing': OutputChannel(artifact_type=ModelBlessing, producer_component_id=Evaluator, output_key=blessing, additional_properties={}, additional_custom_properties={}, _input_trigger=None, _is_async=False)}"
      ]
     },
     "execution_count": 367,
     "metadata": {},
     "output_type": "execute_result"
    }
   ],
   "source": [
    " evaluator.outputs"
   ]
  },
  {
   "cell_type": "code",
   "execution_count": 369,
   "id": "5e920ac5-105b-4190-a4ef-13603a7984dd",
   "metadata": {
    "tags": []
   },
   "outputs": [],
   "source": [
    "# import tensorflow_model_analysis as tfma\n",
    "\n",
    "# # Get the TFMA output result path and load the result.\n",
    "# PATH_TO_RESULT = evaluator.outputs['evaluation'].get()[0].uri\n",
    "# tfma_result = tfma.load_eval_result(PATH_TO_RESULT)\n",
    "\n",
    "# # Show data sliced along feature column trip_start_hour.\n",
    "# tfma.view.render_slicing_metrics(\n",
    "#     tfma_result, slicing_column='trip_start_hour')"
   ]
  },
  {
   "cell_type": "code",
   "execution_count": 370,
   "id": "c1e5505a-e248-46bf-af16-49cc64241b19",
   "metadata": {
    "tags": []
   },
   "outputs": [],
   "source": [
    "# blessing_uri = evaluator.outputs['blessing'].get()[0].uri\n",
    "# !ls -l {blessing_uri}"
   ]
  },
  {
   "cell_type": "code",
   "execution_count": 371,
   "id": "92e051cb-4006-4ab9-9196-c5f7a02d9655",
   "metadata": {
    "tags": []
   },
   "outputs": [],
   "source": [
    "# PATH_TO_RESULT = evaluator.outputs['evaluation'].get()[0].uri\n",
    "# print(tfma.load_validation_result(PATH_TO_RESULT))"
   ]
  },
  {
   "cell_type": "code",
   "execution_count": 372,
   "id": "68f75966-6945-4447-b335-909908899238",
   "metadata": {
    "tags": []
   },
   "outputs": [],
   "source": [
    "pusher = tfx.components.Pusher(\n",
    "    model=trainer.outputs['model'],\n",
    "    model_blessing=evaluator.outputs['blessing'],\n",
    "    push_destination=tfx.proto.PushDestination(\n",
    "        filesystem=tfx.proto.PushDestination.Filesystem(\n",
    "            base_directory=\"gs://chicago_taxi_mlops_pipeline/pusher\")))\n",
    "# context.run(pusher, enable_cache=True)"
   ]
  },
  {
   "cell_type": "code",
   "execution_count": 374,
   "id": "50caa7ef-551f-4fd0-ba72-3af1b748a2ad",
   "metadata": {
    "tags": []
   },
   "outputs": [],
   "source": [
    "# push_uri = pusher.outputs['pushed_model'].get()[0].uri\n",
    "# model = tf.saved_model.load(push_uri)\n",
    "\n",
    "# for item in model.signatures.items():\n",
    "#   pp.pprint(item)"
   ]
  },
  {
   "cell_type": "code",
   "execution_count": 376,
   "id": "d28be70b-5ae2-4351-a90d-c4bbd0e54df7",
   "metadata": {
    "tags": []
   },
   "outputs": [],
   "source": [
    "components = [\n",
    "    example_gen,\n",
    "    statistics_gen,\n",
    "    schema_gen,\n",
    "    example_validator,\n",
    "    transform,\n",
    "    trainer,\n",
    "    model_resolver,\n",
    "    evaluator,\n",
    "    pusher\n",
    "  ]"
   ]
  },
  {
   "cell_type": "code",
   "execution_count": 377,
   "id": "fc05dabd-4a78-427a-9433-a0f7c9aac2a3",
   "metadata": {
    "tags": []
   },
   "outputs": [],
   "source": [
    "pipeline = tfx.dsl.Pipeline(\n",
    "      pipeline_name=PIPELINE_NAME,\n",
    "      pipeline_root=PIPELINE_ROOT,\n",
    "      components=components)"
   ]
  },
  {
   "cell_type": "code",
   "execution_count": 379,
   "id": "81e0b44a-b77c-4000-9dec-804209b99858",
   "metadata": {
    "tags": []
   },
   "outputs": [],
   "source": [
    "  # Example name, replace with your desired name\n",
    "PIPELINE_DEFINITION_FILE = PIPELINE_NAME + '-pipeline.json'\n",
    "\n",
    "runner = tfx.orchestration.experimental.KubeflowV2DagRunner(\n",
    "    config=tfx.orchestration.experimental.KubeflowV2DagRunnerConfig(),\n",
    "    output_filename=PIPELINE_DEFINITION_FILE\n",
    ")"
   ]
  },
  {
   "cell_type": "code",
   "execution_count": 380,
   "id": "22fe6570-2d52-4ea8-a1ab-f4fec44bdc79",
   "metadata": {
    "tags": []
   },
   "outputs": [
    {
     "name": "stdout",
     "output_type": "stream",
     "text": [
      "running bdist_wheel\n",
      "running build\n",
      "running build_py\n",
      "creating build\n",
      "creating build/lib\n",
      "copying taxi_transform.py -> build/lib\n",
      "installing to /var/tmp/tmp2jczwv76\n",
      "running install\n",
      "running install_lib\n",
      "copying build/lib/taxi_transform.py -> /var/tmp/tmp2jczwv76\n",
      "running install_egg_info\n",
      "running egg_info\n",
      "creating tfx_user_code_Transform.egg-info\n",
      "writing tfx_user_code_Transform.egg-info/PKG-INFO\n",
      "writing dependency_links to tfx_user_code_Transform.egg-info/dependency_links.txt\n",
      "writing top-level names to tfx_user_code_Transform.egg-info/top_level.txt\n",
      "writing manifest file 'tfx_user_code_Transform.egg-info/SOURCES.txt'\n",
      "reading manifest file 'tfx_user_code_Transform.egg-info/SOURCES.txt'\n",
      "writing manifest file 'tfx_user_code_Transform.egg-info/SOURCES.txt'\n",
      "Copying tfx_user_code_Transform.egg-info to /var/tmp/tmp2jczwv76/tfx_user_code_Transform-0.0+81f524a1c5c8e7c5d8afa3fa47bbb1b9952677d155fa51958bc176ffd58f6f8f-py3.10.egg-info\n",
      "running install_scripts\n",
      "creating /var/tmp/tmp2jczwv76/tfx_user_code_Transform-0.0+81f524a1c5c8e7c5d8afa3fa47bbb1b9952677d155fa51958bc176ffd58f6f8f.dist-info/WHEEL\n",
      "creating '/var/tmp/tmpi_az71zg/tfx_user_code_Transform-0.0+81f524a1c5c8e7c5d8afa3fa47bbb1b9952677d155fa51958bc176ffd58f6f8f-py3-none-any.whl' and adding '/var/tmp/tmp2jczwv76' to it\n",
      "adding 'taxi_transform.py'\n",
      "adding 'tfx_user_code_Transform-0.0+81f524a1c5c8e7c5d8afa3fa47bbb1b9952677d155fa51958bc176ffd58f6f8f.dist-info/METADATA'\n",
      "adding 'tfx_user_code_Transform-0.0+81f524a1c5c8e7c5d8afa3fa47bbb1b9952677d155fa51958bc176ffd58f6f8f.dist-info/WHEEL'\n",
      "adding 'tfx_user_code_Transform-0.0+81f524a1c5c8e7c5d8afa3fa47bbb1b9952677d155fa51958bc176ffd58f6f8f.dist-info/top_level.txt'\n",
      "adding 'tfx_user_code_Transform-0.0+81f524a1c5c8e7c5d8afa3fa47bbb1b9952677d155fa51958bc176ffd58f6f8f.dist-info/RECORD'\n",
      "removing /var/tmp/tmp2jczwv76\n"
     ]
    },
    {
     "name": "stderr",
     "output_type": "stream",
     "text": [
      "/opt/conda/lib/python3.10/site-packages/setuptools/_distutils/cmd.py:66: SetuptoolsDeprecationWarning: setup.py install is deprecated.\n",
      "!!\n",
      "\n",
      "        ********************************************************************************\n",
      "        Please avoid running ``setup.py`` directly.\n",
      "        Instead, use pypa/build, pypa/installer or other\n",
      "        standards-based tools.\n",
      "\n",
      "        See https://blog.ganssle.io/articles/2021/10/setup-py-deprecated.html for details.\n",
      "        ********************************************************************************\n",
      "\n",
      "!!\n",
      "  self.initialize_options()\n"
     ]
    },
    {
     "name": "stdout",
     "output_type": "stream",
     "text": [
      "running bdist_wheel\n",
      "running build\n",
      "running build_py\n",
      "creating build\n",
      "creating build/lib\n",
      "copying taxi_trainer.py -> build/lib\n",
      "installing to /var/tmp/tmpbxjn66kh\n",
      "running install\n",
      "running install_lib\n",
      "copying build/lib/taxi_trainer.py -> /var/tmp/tmpbxjn66kh\n",
      "running install_egg_info\n",
      "running egg_info\n",
      "creating tfx_user_code_Trainer.egg-info\n",
      "writing tfx_user_code_Trainer.egg-info/PKG-INFO\n",
      "writing dependency_links to tfx_user_code_Trainer.egg-info/dependency_links.txt\n",
      "writing top-level names to tfx_user_code_Trainer.egg-info/top_level.txt\n",
      "writing manifest file 'tfx_user_code_Trainer.egg-info/SOURCES.txt'\n",
      "reading manifest file 'tfx_user_code_Trainer.egg-info/SOURCES.txt'\n",
      "writing manifest file 'tfx_user_code_Trainer.egg-info/SOURCES.txt'\n",
      "Copying tfx_user_code_Trainer.egg-info to /var/tmp/tmpbxjn66kh/tfx_user_code_Trainer-0.0+393214a367044f6d52018f533ee0f28dff5042920e5d9279e0d8c450f92d0b7f-py3.10.egg-info\n",
      "running install_scripts\n",
      "creating /var/tmp/tmpbxjn66kh/tfx_user_code_Trainer-0.0+393214a367044f6d52018f533ee0f28dff5042920e5d9279e0d8c450f92d0b7f.dist-info/WHEEL\n",
      "creating '/var/tmp/tmpavkxshaq/tfx_user_code_Trainer-0.0+393214a367044f6d52018f533ee0f28dff5042920e5d9279e0d8c450f92d0b7f-py3-none-any.whl' and adding '/var/tmp/tmpbxjn66kh' to it\n",
      "adding 'taxi_trainer.py'\n",
      "adding 'tfx_user_code_Trainer-0.0+393214a367044f6d52018f533ee0f28dff5042920e5d9279e0d8c450f92d0b7f.dist-info/METADATA'\n",
      "adding 'tfx_user_code_Trainer-0.0+393214a367044f6d52018f533ee0f28dff5042920e5d9279e0d8c450f92d0b7f.dist-info/WHEEL'\n",
      "adding 'tfx_user_code_Trainer-0.0+393214a367044f6d52018f533ee0f28dff5042920e5d9279e0d8c450f92d0b7f.dist-info/top_level.txt'\n",
      "adding 'tfx_user_code_Trainer-0.0+393214a367044f6d52018f533ee0f28dff5042920e5d9279e0d8c450f92d0b7f.dist-info/RECORD'\n",
      "removing /var/tmp/tmpbxjn66kh\n"
     ]
    },
    {
     "name": "stderr",
     "output_type": "stream",
     "text": [
      "/opt/conda/lib/python3.10/site-packages/setuptools/_distutils/cmd.py:66: SetuptoolsDeprecationWarning: setup.py install is deprecated.\n",
      "!!\n",
      "\n",
      "        ********************************************************************************\n",
      "        Please avoid running ``setup.py`` directly.\n",
      "        Instead, use pypa/build, pypa/installer or other\n",
      "        standards-based tools.\n",
      "\n",
      "        See https://blog.ganssle.io/articles/2021/10/setup-py-deprecated.html for details.\n",
      "        ********************************************************************************\n",
      "\n",
      "!!\n",
      "  self.initialize_options()\n"
     ]
    }
   ],
   "source": [
    "_ = runner.run(pipeline)"
   ]
  },
  {
   "cell_type": "code",
   "execution_count": 381,
   "id": "026b9730-7588-4c9d-91a2-9ad47f1620ea",
   "metadata": {},
   "outputs": [
    {
     "data": {
      "text/plain": [
       "model_specs {\n",
       "  signature_name: \"serving_default\"\n",
       "  label_key: \"tips\"\n",
       "  preprocessing_function_names: \"transform_features\"\n",
       "}\n",
       "slicing_specs {\n",
       "}\n",
       "slicing_specs {\n",
       "  feature_keys: \"trip_start_hour\"\n",
       "}\n",
       "metrics_specs {\n",
       "  metrics {\n",
       "    class_name: \"ExampleCount\"\n",
       "  }\n",
       "  metrics {\n",
       "    class_name: \"BinaryAccuracy\"\n",
       "    threshold {\n",
       "      value_threshold {\n",
       "        lower_bound {\n",
       "          value: 0.5\n",
       "        }\n",
       "      }\n",
       "      change_threshold {\n",
       "        absolute {\n",
       "          value: -1e-10\n",
       "        }\n",
       "        direction: HIGHER_IS_BETTER\n",
       "      }\n",
       "    }\n",
       "  }\n",
       "}"
      ]
     },
     "execution_count": 381,
     "metadata": {},
     "output_type": "execute_result"
    }
   ],
   "source": [
    "eval_config"
   ]
  },
  {
   "cell_type": "code",
   "execution_count": null,
   "id": "b52573a9-e9db-49a3-882e-a613cabbec81",
   "metadata": {},
   "outputs": [],
   "source": []
  }
 ],
 "metadata": {
  "environment": {
   "kernel": "conda-base-py",
   "name": "workbench-notebooks.m120",
   "type": "gcloud",
   "uri": "us-docker.pkg.dev/deeplearning-platform-release/gcr.io/workbench-notebooks:m120"
  },
  "kernelspec": {
   "display_name": "Python 3 (ipykernel) (Local)",
   "language": "python",
   "name": "conda-base-py"
  },
  "language_info": {
   "codemirror_mode": {
    "name": "ipython",
    "version": 3
   },
   "file_extension": ".py",
   "mimetype": "text/x-python",
   "name": "python",
   "nbconvert_exporter": "python",
   "pygments_lexer": "ipython3",
   "version": "3.10.14"
  }
 },
 "nbformat": 4,
 "nbformat_minor": 5
}
